{
 "cells": [
  {
   "cell_type": "code",
   "execution_count": 1,
   "metadata": {},
   "outputs": [],
   "source": [
    "import numpy as np"
   ]
  },
  {
   "cell_type": "code",
   "execution_count": 2,
   "metadata": {},
   "outputs": [],
   "source": [
    "from collections import Counter"
   ]
  },
  {
   "cell_type": "code",
   "execution_count": 3,
   "metadata": {},
   "outputs": [],
   "source": [
    "i = [i for i in range(1,6)]"
   ]
  },
  {
   "cell_type": "code",
   "execution_count": 4,
   "metadata": {},
   "outputs": [],
   "source": [
    "possible_values =[i,i,i,i,i,i]"
   ]
  },
  {
   "cell_type": "code",
   "execution_count": 5,
   "metadata": {},
   "outputs": [],
   "source": [
    "import itertools"
   ]
  },
  {
   "cell_type": "code",
   "execution_count": 6,
   "metadata": {},
   "outputs": [],
   "source": [
    "products = itertools.product(i,i,i,i,i,i)"
   ]
  },
  {
   "cell_type": "code",
   "execution_count": 7,
   "metadata": {
    "tags": []
   },
   "outputs": [
    {
     "data": {
      "text/plain": [
       "<itertools.product at 0x1bfe0476728>"
      ]
     },
     "execution_count": 7,
     "metadata": {},
     "output_type": "execute_result"
    }
   ],
   "source": [
    "products"
   ]
  },
  {
   "cell_type": "markdown",
   "metadata": {},
   "source": [
    "Product item in products:\n",
    "\n",
    "product[0] = number of Beef Patty's <br>\n",
    "product[1] = number of Bun's <br>\n",
    "product[2] = number of Cheese <br>\n",
    "product[3] = Number of Onions <br>\n",
    "product[4] = Number of Pickles and Tomatoes <br>\n",
    "product[5] = Number of Ketchup and Lettuces "
   ]
  },
  {
   "cell_type": "code",
   "execution_count": 8,
   "metadata": {},
   "outputs": [],
   "source": [
    "ok_products = []"
   ]
  },
  {
   "cell_type": "code",
   "execution_count": 9,
   "metadata": {},
   "outputs": [],
   "source": [
    "def calculate_sodium(product):\n",
    "    product = np.array(product)\n",
    "    sodiums = np.array([50,330,310,1,263,163]).T\n",
    "    \n",
    "    return product @ sodiums"
   ]
  },
  {
   "cell_type": "code",
   "execution_count": 10,
   "metadata": {},
   "outputs": [],
   "source": [
    "def calculate_fat(product):\n",
    "    product = np.array(product)\n",
    "    fats = np.array([17,9,6,2,0,0]).T\n",
    "    return product @ fats"
   ]
  },
  {
   "cell_type": "code",
   "execution_count": 11,
   "metadata": {},
   "outputs": [],
   "source": [
    "def calculate_calories(product):\n",
    "    product = np.array(product)\n",
    "    calories = np.array([220,260,70,10,14,24]).T\n",
    "    return product @ calories"
   ]
  },
  {
   "cell_type": "code",
   "execution_count": 12,
   "metadata": {},
   "outputs": [],
   "source": [
    "def check_sodium(product):\n",
    "    return calculate_sodium(product) < 3000"
   ]
  },
  {
   "cell_type": "code",
   "execution_count": 13,
   "metadata": {},
   "outputs": [],
   "source": [
    "def check_fat(product):\n",
    "    return calculate_fat(product) < 300"
   ]
  },
  {
   "cell_type": "code",
   "execution_count": 14,
   "metadata": {},
   "outputs": [],
   "source": [
    "def check_calories(product):\n",
    "    return calculate_calories(product) < 3000"
   ]
  },
  {
   "cell_type": "code",
   "execution_count": 15,
   "metadata": {},
   "outputs": [],
   "source": [
    "def calculate_cost(product):\n",
    "    product = np.array(product)\n",
    "    costs = np.array([0.25,0.15,0.10,0.09,0.07,0.06]).T\n",
    "    return float(\"{:.2f}\".format(product@costs))"
   ]
  },
  {
   "cell_type": "code",
   "execution_count": 16,
   "metadata": {},
   "outputs": [],
   "source": [
    "def is_ok(product):\n",
    "    return check_sodium(product) and check_fat(product) and check_calories(product)"
   ]
  },
  {
   "cell_type": "code",
   "execution_count": 17,
   "metadata": {},
   "outputs": [],
   "source": [
    "def get_total(product):\n",
    "    ingredients = np.array([1,1,1,1,2,2]).T\n",
    "    return np.array(product) @ ingredients"
   ]
  },
  {
   "cell_type": "code",
   "execution_count": 18,
   "metadata": {
    "tags": []
   },
   "outputs": [],
   "source": [
    "for product in products:\n",
    "    if is_ok(product):\n",
    "        ok_products.append(product)"
   ]
  },
  {
   "cell_type": "code",
   "execution_count": 19,
   "metadata": {},
   "outputs": [
    {
     "name": "stdout",
     "output_type": "stream",
     "text": [
      "5194\n"
     ]
    }
   ],
   "source": [
    "print(len(ok_products))"
   ]
  },
  {
   "cell_type": "code",
   "execution_count": 20,
   "metadata": {},
   "outputs": [],
   "source": [
    "num_items = [get_total(i) for i in ok_products]"
   ]
  },
  {
   "cell_type": "code",
   "execution_count": 21,
   "metadata": {},
   "outputs": [
    {
     "data": {
      "text/plain": [
       "Counter({8: 1,\n",
       "         10: 12,\n",
       "         12: 58,\n",
       "         14: 169,\n",
       "         16: 346,\n",
       "         18: 514,\n",
       "         20: 575,\n",
       "         22: 476,\n",
       "         24: 290,\n",
       "         9: 4,\n",
       "         11: 28,\n",
       "         13: 104,\n",
       "         15: 251,\n",
       "         17: 437,\n",
       "         19: 564,\n",
       "         21: 543,\n",
       "         23: 386,\n",
       "         25: 195,\n",
       "         26: 122,\n",
       "         27: 68,\n",
       "         28: 33,\n",
       "         29: 13,\n",
       "         30: 4,\n",
       "         31: 1})"
      ]
     },
     "execution_count": 21,
     "metadata": {},
     "output_type": "execute_result"
    }
   ],
   "source": [
    "Counter(num_items)"
   ]
  },
  {
   "cell_type": "code",
   "execution_count": 22,
   "metadata": {},
   "outputs": [],
   "source": [
    "products_with_max_number_of_items = []"
   ]
  },
  {
   "cell_type": "code",
   "execution_count": 23,
   "metadata": {},
   "outputs": [],
   "source": [
    "for product in ok_products:\n",
    "    if get_total(product) == 31:\n",
    "        products_with_max_number_of_items.append(product)"
   ]
  },
  {
   "cell_type": "code",
   "execution_count": 24,
   "metadata": {},
   "outputs": [
    {
     "data": {
      "text/plain": [
       "[(4, 1, 1, 5, 5, 5)]"
      ]
     },
     "execution_count": 24,
     "metadata": {},
     "output_type": "execute_result"
    }
   ],
   "source": [
    "products_with_max_number_of_items"
   ]
  },
  {
   "cell_type": "code",
   "execution_count": 25,
   "metadata": {},
   "outputs": [
    {
     "data": {
      "text/plain": [
       "2.35"
      ]
     },
     "execution_count": 25,
     "metadata": {},
     "output_type": "execute_result"
    }
   ],
   "source": [
    "calculate_cost(products_with_max_number_of_items[0])"
   ]
  },
  {
   "cell_type": "code",
   "execution_count": 26,
   "metadata": {},
   "outputs": [],
   "source": [
    "dix = dict()"
   ]
  },
  {
   "cell_type": "code",
   "execution_count": 27,
   "metadata": {},
   "outputs": [],
   "source": [
    "dix[\"x1\"] = \"Number of Beef Patty's\"\n",
    "dix[\"x2\"] = \"Number of Bun's\"\n",
    "dix[\"x3\"] = \"Number of Cheese\"\n",
    "dix[\"x4\"] = \"Number of Onions\"\n",
    "dix[\"x5\"] = \"Number of Pickles and Tomatoes\"\n",
    "dix[\"x6\"] = \"Number of Ketchup and Lettuces \""
   ]
  },
  {
   "cell_type": "code",
   "execution_count": 28,
   "metadata": {},
   "outputs": [
    {
     "data": {
      "text/plain": [
       "{'x1': \"Number of Beef Patty's\",\n",
       " 'x2': \"Number of Bun's\",\n",
       " 'x3': 'Number of Cheese',\n",
       " 'x4': 'Number of Onions',\n",
       " 'x5': 'Number of Pickles and Tomatoes',\n",
       " 'x6': 'Number of Ketchup and Lettuces '}"
      ]
     },
     "execution_count": 28,
     "metadata": {},
     "output_type": "execute_result"
    }
   ],
   "source": [
    "dix"
   ]
  },
  {
   "cell_type": "code",
   "execution_count": 29,
   "metadata": {},
   "outputs": [
    {
     "data": {
      "text/plain": [
       "0.72"
      ]
     },
     "execution_count": 29,
     "metadata": {},
     "output_type": "execute_result"
    }
   ],
   "source": [
    "np.array([1,1,1,1,1,1]) @ np.array([0.25,0.15,0.10,0.09,0.07,0.06]).T"
   ]
  },
  {
   "cell_type": "code",
   "execution_count": 33,
   "metadata": {},
   "outputs": [
    {
     "data": {
      "text/plain": [
       "2.35"
      ]
     },
     "execution_count": 33,
     "metadata": {},
     "output_type": "execute_result"
    }
   ],
   "source": [
    "calculate_cost(products_with_max_number_of_items[0])"
   ]
  },
  {
   "cell_type": "code",
   "execution_count": null,
   "metadata": {},
   "outputs": [],
   "source": []
  }
 ],
 "metadata": {
  "kernelspec": {
   "display_name": "Python 3 (ipykernel)",
   "language": "python",
   "name": "python3"
  },
  "language_info": {
   "codemirror_mode": {
    "name": "ipython",
    "version": 3
   },
   "file_extension": ".py",
   "mimetype": "text/x-python",
   "name": "python",
   "nbconvert_exporter": "python",
   "pygments_lexer": "ipython3",
   "version": "3.7.11"
  }
 },
 "nbformat": 4,
 "nbformat_minor": 4
}
